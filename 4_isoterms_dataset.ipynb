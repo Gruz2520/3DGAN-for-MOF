{
 "cells": [
  {
   "cell_type": "code",
   "execution_count": 2,
   "metadata": {},
   "outputs": [],
   "source": [
    "import os\n",
    "import pickle\n",
    "import glob\n",
    "import json\n",
    "\n",
    "import numpy as np\n",
    "import pandas as pd\n",
    "from itertools import combinations\n",
    "from scipy.optimize import curve_fit\n",
    "\n",
    "from itertools import combinations\n",
    "from scipy.optimize import curve_fit\n",
    "\n",
    "import ipywidgets as widgets\n",
    "\n",
    "%matplotlib inline"
   ]
  },
  {
   "cell_type": "markdown",
   "metadata": {},
   "source": [
    "# Превращаем данные в .json в DataFrame"
   ]
  },
  {
   "cell_type": "code",
   "execution_count": 3,
   "metadata": {},
   "outputs": [
    {
     "name": "stdout",
     "output_type": "stream",
     "text": [
      "Wall time: 16.5 s\n"
     ]
    }
   ],
   "source": [
    "%%time\n",
    "\n",
    "isotherms_data_folder = r'downloaded'\n",
    "total = []\n",
    "\n",
    "for json_file in glob.glob(isotherms_data_folder + r'\\*.json'):\n",
    "#     print(json_file)\n",
    "\n",
    "    #read\n",
    "    with open(json_file, 'r') as json_inp:\n",
    "        json_data = json.load(json_inp)\n",
    "\n",
    "    # check if only single substance was adsorbed\n",
    "    if json_data['isotherm_data'][0]['species_data'][0]['composition'] != 1:\n",
    "        continue\n",
    "    \n",
    "    category = json_data['category']\n",
    "    adsorbent = json_data['adsorbent']['name']\n",
    "    adsorbate = json_data['adsorbates'][0]['name']\n",
    "    temperature = json_data['temperature']\n",
    "    doi = json_data['DOI']\n",
    "    p_units = json_data['pressureUnits']\n",
    "    ads_units = json_data['adsorptionUnits']\n",
    "    pressure = [d['pressure'] for d in json_data['isotherm_data']]\n",
    "    adsorption = [d['total_adsorption'] for d in json_data['isotherm_data']]\n",
    "\n",
    "    total.append([doi, category,\n",
    "                  adsorbent, adsorbate, temperature,\n",
    "                  p_units, ads_units, pressure, adsorption])"
   ]
  },
  {
   "cell_type": "code",
   "execution_count": 4,
   "metadata": {},
   "outputs": [],
   "source": [
    "df_sum = pd.DataFrame(total, columns=['doi', 'category',\n",
    "                                      'adsorbent', 'adsorbate', 'temperature',\n",
    "                                      'p_units', 'ads_units', 'pressure', 'adsorption'])"
   ]
  },
  {
   "cell_type": "markdown",
   "metadata": {},
   "source": [
    "# Все возможные величины адсорбции в данном датасете"
   ]
  },
  {
   "cell_type": "markdown",
   "metadata": {},
   "source": [
    "Из всех видов были выбраны `mmol/g`, `cm3(STP)/g`, `mg/g`, `ml/g`, `mol/g`, `mmol/kg`. В следующем блоке показано количество разных величин."
   ]
  },
  {
   "cell_type": "code",
   "execution_count": 5,
   "metadata": {},
   "outputs": [
    {
     "data": {
      "text/plain": [
       "mmol/g                        1558\n",
       "cm3(STP)/g                     790\n",
       "wt%                            143\n",
       "molecules/unitcell             110\n",
       "mg/g                            98\n",
       "ml/g                            44\n",
       "cm3(STP)/cm3                    38\n",
       "mmol/cm3                        38\n",
       "mol/mol                         18\n",
       "mol/m3                          16\n",
       "mol/l                           10\n",
       "mg/m2                            8\n",
       "kmol/m3                          7\n",
       "                                 6\n",
       "molecules/cage                   6\n",
       "cm3/m2                           5\n",
       "molecules/8 unit cells           3\n",
       "molecules/Rh2 unit               3\n",
       "molecules/Cu2 unit               3\n",
       "Guest molecules per Cu ion       2\n",
       "molecules/nm2                    2\n",
       "g/l                              2\n",
       "mol/g                            2\n",
       "mmol/m2                          2\n",
       "mmol/kg                          1\n",
       "mol/m2                           1\n",
       "molecules/pore                   1\n",
       "molecules/formula unit           1\n",
       "Name: ads_units, dtype: int64"
      ]
     },
     "execution_count": 5,
     "metadata": {},
     "output_type": "execute_result"
    }
   ],
   "source": [
    "df_sum['ads_units'].value_counts()"
   ]
  },
  {
   "cell_type": "markdown",
   "metadata": {},
   "source": [
    "# Блок перевода величин"
   ]
  },
  {
   "cell_type": "markdown",
   "metadata": {},
   "source": [
    "Из всего перечня величин было решено оставить самую распространенную как основную, и по возможности перевести остальные."
   ]
  },
  {
   "cell_type": "code",
   "execution_count": 6,
   "metadata": {},
   "outputs": [
    {
     "data": {
      "text/plain": [
       "mmol/g        1558\n",
       "cm3(STP)/g     790\n",
       "mg/g            98\n",
       "ml/g            44\n",
       "mol/g            2\n",
       "mmol/kg          1\n",
       "Name: ads_units, dtype: int64"
      ]
     },
     "execution_count": 6,
     "metadata": {},
     "output_type": "execute_result"
    }
   ],
   "source": [
    "df_ads = df_sum.copy()\n",
    "chosen_ads_units = list(df_ads[df_ads['ads_units'] == 'mmol/g'].index) \\\n",
    "                 + list(df_ads[df_ads['ads_units'] == 'cm3(STP)/g'].index) \\\n",
    "                 + list(df_ads[df_ads['ads_units'] == 'mg/g'].index) \\\n",
    "                 + list(df_ads[df_ads['ads_units'] == 'ml/g'].index) \\\n",
    "                 + list(df_ads[df_ads['ads_units'] == 'mol/g'].index) \\\n",
    "                 + list(df_ads[df_ads['ads_units'] == 'mmol/kg'].index) \n",
    "df_ads = df_ads[df_ads.index.isin(chosen_ads_units)]\n",
    "df_ads['ads_units'].value_counts()"
   ]
  },
  {
   "cell_type": "markdown",
   "metadata": {},
   "source": [
    "Из всего перечня величин можно перевести 5 в `mmol/g`. В следующем блоке - код перевода величин. Для перевода из:\n",
    "\n",
    "- `cm3(STP)/g` или `ml/g` в `mmol/g` нужно поделить на 22,4\n",
    "- `mg/g` в `mmol/g` нужно поделить на 44,0\n",
    "- `mol/g` в `mmol/g` нужно умножить на 1000\n",
    "- `mmol/kg` в `mmol/g` нужно поделить на 1000\n"
   ]
  },
  {
   "cell_type": "code",
   "execution_count": 7,
   "metadata": {},
   "outputs": [
    {
     "data": {
      "text/plain": [
       "mmol/g    2160\n",
       "Name: ads_units, dtype: int64"
      ]
     },
     "execution_count": 7,
     "metadata": {},
     "output_type": "execute_result"
    }
   ],
   "source": [
    "df_prep = df_ads.dropna()\n",
    "for i, row in df_prep.iterrows():\n",
    "    if row['ads_units'] == 'cm3(STP)/g' or row['ads_units'] == 'ml/g':\n",
    "        try:\n",
    "            new_value = np.true_divide(row['adsorption'], 22.4)\n",
    "        except:\n",
    "            new_value = np.nan\n",
    "        df_prep.at[i,'ads_units'] = 'mmol/g'\n",
    "        df_prep.at[i,'adsorption'] = new_value\n",
    "    elif row['ads_units'] == 'mg/g':\n",
    "        try:\n",
    "            new_value = np.true_divide(row['adsorption'], 44.0)\n",
    "        except:\n",
    "            new_value = np.nan\n",
    "        df_prep.at[i,'ads_units'] = 'mmol/g'\n",
    "        df_prep.at[i,'adsorption'] = new_value\n",
    "    elif row['ads_units'] == 'mol/g':\n",
    "        try:\n",
    "            new_value = np.multiply(row['adsorption'], 1000.0)\n",
    "        except:\n",
    "            new_value = np.nan\n",
    "        df_prep.at[i,'ads_units'] = 'mmol/g'\n",
    "        df_prep.at[i,'adsorption'] = new_value\n",
    "    elif row['ads_units'] == 'mmol/kg':\n",
    "        try:\n",
    "            new_value = np.true_divide(row['adsorption'], 1000.0)\n",
    "        except:\n",
    "            new_value = np.nan\n",
    "        df_prep.at[i,'ads_units'] = 'mmol/g'\n",
    "        df_prep.at[i,'adsorption'] = new_value    \n",
    "    elif row['ads_units'] == 'mmol/g':\n",
    "        if None in row['adsorption']:\n",
    "            df_prep.at[i,'adsorption'] = np.nan\n",
    "df_prep = df_prep.dropna()\n",
    "df_prep['ads_units'].value_counts()"
   ]
  },
  {
   "cell_type": "markdown",
   "metadata": {},
   "source": [
    "# DataFrame после перевода величин (первые 50 записей)"
   ]
  },
  {
   "cell_type": "code",
   "execution_count": 8,
   "metadata": {
    "tags": []
   },
   "outputs": [
    {
     "data": {
      "text/html": [
       "<div>\n",
       "<style scoped>\n",
       "    .dataframe tbody tr th:only-of-type {\n",
       "        vertical-align: middle;\n",
       "    }\n",
       "\n",
       "    .dataframe tbody tr th {\n",
       "        vertical-align: top;\n",
       "    }\n",
       "\n",
       "    .dataframe thead th {\n",
       "        text-align: right;\n",
       "    }\n",
       "</style>\n",
       "<table border=\"1\" class=\"dataframe\">\n",
       "  <thead>\n",
       "    <tr style=\"text-align: right;\">\n",
       "      <th></th>\n",
       "      <th>doi</th>\n",
       "      <th>category</th>\n",
       "      <th>adsorbent</th>\n",
       "      <th>adsorbate</th>\n",
       "      <th>temperature</th>\n",
       "      <th>p_units</th>\n",
       "      <th>ads_units</th>\n",
       "      <th>pressure</th>\n",
       "      <th>adsorption</th>\n",
       "    </tr>\n",
       "  </thead>\n",
       "  <tbody>\n",
       "    <tr>\n",
       "      <th>0</th>\n",
       "      <td>10.1002/adfm.201200084</td>\n",
       "      <td></td>\n",
       "      <td>NH2-MIL-53(Al)</td>\n",
       "      <td>Carbon Dioxide</td>\n",
       "      <td>273</td>\n",
       "      <td>bar</td>\n",
       "      <td>mmol/g</td>\n",
       "      <td>[0.42318, 0.676969, 1.01993, 1.36288, 1.70644,...</td>\n",
       "      <td>[0.3864669642857143, 0.6226428571428572, 0.772...</td>\n",
       "    </tr>\n",
       "    <tr>\n",
       "      <th>1</th>\n",
       "      <td>10.1002/adfm.201200084</td>\n",
       "      <td></td>\n",
       "      <td>NH2-MIL-53(Al)</td>\n",
       "      <td>Carbon Dioxide</td>\n",
       "      <td>298</td>\n",
       "      <td>bar</td>\n",
       "      <td>mmol/g</td>\n",
       "      <td>[0.678881, 1.35654, 1.86693, 2.54398, 3.22102,...</td>\n",
       "      <td>[0.09775803571428571, 0.17922321428571428, 0.2...</td>\n",
       "    </tr>\n",
       "    <tr>\n",
       "      <th>2</th>\n",
       "      <td>10.1002/adfm.201300071</td>\n",
       "      <td></td>\n",
       "      <td>CCT1</td>\n",
       "      <td>Carbon Dioxide</td>\n",
       "      <td>273</td>\n",
       "      <td>bar</td>\n",
       "      <td>mmol/g</td>\n",
       "      <td>[0.0126608, 0.0422383, 0.0746326, 0.112661, 0....</td>\n",
       "      <td>[0.098115625, 0.2917776785714286, 0.4275924107...</td>\n",
       "    </tr>\n",
       "    <tr>\n",
       "      <th>3</th>\n",
       "      <td>10.1002/adfm.201300071</td>\n",
       "      <td></td>\n",
       "      <td>CCT1</td>\n",
       "      <td>Carbon Dioxide</td>\n",
       "      <td>273</td>\n",
       "      <td>bar</td>\n",
       "      <td>mmol/g</td>\n",
       "      <td>[0.0182946, 0.0408298, 0.0816749, 0.129562, 0....</td>\n",
       "      <td>[0.09057053571428571, 0.2188401785714286, 0.33...</td>\n",
       "    </tr>\n",
       "    <tr>\n",
       "      <th>4</th>\n",
       "      <td>10.1002/adfm.201300071</td>\n",
       "      <td></td>\n",
       "      <td>CT</td>\n",
       "      <td>Carbon Dioxide</td>\n",
       "      <td>273</td>\n",
       "      <td>bar</td>\n",
       "      <td>mmol/g</td>\n",
       "      <td>[0.0408298, 0.0999848, 0.161957, 0.218295, 0.2...</td>\n",
       "      <td>[0.18865892857142857, 0.34710982142857144, 0.4...</td>\n",
       "    </tr>\n",
       "  </tbody>\n",
       "</table>\n",
       "</div>"
      ],
      "text/plain": [
       "                      doi category       adsorbent       adsorbate  \\\n",
       "0  10.1002/adfm.201200084           NH2-MIL-53(Al)  Carbon Dioxide   \n",
       "1  10.1002/adfm.201200084           NH2-MIL-53(Al)  Carbon Dioxide   \n",
       "2  10.1002/adfm.201300071                     CCT1  Carbon Dioxide   \n",
       "3  10.1002/adfm.201300071                     CCT1  Carbon Dioxide   \n",
       "4  10.1002/adfm.201300071                       CT  Carbon Dioxide   \n",
       "\n",
       "   temperature p_units ads_units  \\\n",
       "0          273     bar    mmol/g   \n",
       "1          298     bar    mmol/g   \n",
       "2          273     bar    mmol/g   \n",
       "3          273     bar    mmol/g   \n",
       "4          273     bar    mmol/g   \n",
       "\n",
       "                                            pressure  \\\n",
       "0  [0.42318, 0.676969, 1.01993, 1.36288, 1.70644,...   \n",
       "1  [0.678881, 1.35654, 1.86693, 2.54398, 3.22102,...   \n",
       "2  [0.0126608, 0.0422383, 0.0746326, 0.112661, 0....   \n",
       "3  [0.0182946, 0.0408298, 0.0816749, 0.129562, 0....   \n",
       "4  [0.0408298, 0.0999848, 0.161957, 0.218295, 0.2...   \n",
       "\n",
       "                                          adsorption  \n",
       "0  [0.3864669642857143, 0.6226428571428572, 0.772...  \n",
       "1  [0.09775803571428571, 0.17922321428571428, 0.2...  \n",
       "2  [0.098115625, 0.2917776785714286, 0.4275924107...  \n",
       "3  [0.09057053571428571, 0.2188401785714286, 0.33...  \n",
       "4  [0.18865892857142857, 0.34710982142857144, 0.4...  "
      ]
     },
     "execution_count": 8,
     "metadata": {},
     "output_type": "execute_result"
    }
   ],
   "source": [
    "df_prep.reset_index(inplace=True, drop=True)\n",
    "df_prep.head(5)"
   ]
  },
  {
   "cell_type": "markdown",
   "metadata": {},
   "source": [
    "# Построение изотерм адсорбции с помощью выбранного уравнения\n",
    "\n",
    "Для построения изотерм выбрали 3 уравнения:\n",
    "\n",
    "- `freundlich_langmuir_model` (`FL`) - уравнение Фрейндлиха-Лангмюира.\n",
    "- `langmuir_model` (`L`) - уравнение Лангмюира.\n",
    "- `freundlich_model` (`F`) - уравнение Фрейндлиха.\n",
    "\n",
    "Также расчет R^2"
   ]
  },
  {
   "cell_type": "code",
   "execution_count": 9,
   "metadata": {
    "tags": []
   },
   "outputs": [],
   "source": [
    "def freundlich_langmuir_model(p, g_inf, K, n):\n",
    "      return (g_inf * (K*p)**(1/n)/(1 + (K*p)**(1/n)))"
   ]
  },
  {
   "cell_type": "code",
   "execution_count": 10,
   "metadata": {
    "tags": []
   },
   "outputs": [],
   "source": [
    "def langmuir_model(p, g_inf, K):\n",
    "    return (g_inf * (K*p))/(1 + (K*p))"
   ]
  },
  {
   "cell_type": "code",
   "execution_count": 11,
   "metadata": {
    "tags": []
   },
   "outputs": [],
   "source": [
    "def freundlich_model(p, K, n):\n",
    "    return (K*(p**(1/n)))"
   ]
  },
  {
   "cell_type": "code",
   "execution_count": 12,
   "metadata": {
    "tags": [
     "hide-input"
    ]
   },
   "outputs": [
    {
     "data": {
      "application/vnd.jupyter.widget-view+json": {
       "model_id": "37689f88d0784a7f815716f4e5fa45d0",
       "version_major": 2,
       "version_minor": 0
      },
      "text/plain": [
       "Dropdown(description='Equation:', index=1, options=('FL', 'L', 'F'), value='L')"
      ]
     },
     "metadata": {},
     "output_type": "display_data"
    }
   ],
   "source": [
    "from IPython.display import display\n",
    "eq_drpdown = widgets.Dropdown(\n",
    "    options=['FL', 'L', 'F'],\n",
    "    value='L',\n",
    "    description='Equation:',\n",
    "    disabled=False,\n",
    ")\n",
    "display(eq_drpdown)"
   ]
  },
  {
   "cell_type": "markdown",
   "metadata": {},
   "source": [
    "Рассчитываются коэффициенты по уравнению адсорбции Ленгмюра-Фрейндлиха. \n",
    "В нем константы `K` и `n` находятся графическим способом, следовательно, для определения допустимых значений были выделены следующие критерии: \n",
    "- Для константы `n` (тангенс угла наклона прямой по зависимости lgA от lgP) 1 < `n` < 10 (по найденным критериям для `n`). \n",
    "- Константа `K` так же находится графически, как точка пересечения прямой по зависимости lgA от lgP с осью y (при P=1) для этого на диапазон значения влияют исходные данные в которых выбирается координаты точки при которых lgP=0, либо ближайшее к нему значение. \n",
    "- Минимальное значение `g_inf` (предельная адсорбция) принимает значение максимальной адсорбции по каждому конкретному случаю, максимальное значение не ограничено."
   ]
  },
  {
   "cell_type": "code",
   "execution_count": 22,
   "metadata": {
    "tags": []
   },
   "outputs": [],
   "source": [
    "df_iso = df_prep.copy()\n",
    "\n",
    "def find_nearest(array, value):\n",
    "    array = np.asarray(array)\n",
    "    idx = (np.abs(array - value)).argmin()\n",
    "    return idx\n",
    "\n",
    "def fit_isotherm(pressure, adsorption, model, model_parameters_bounds=([0.0, 2.0, 1.11], [np.inf, 2.50, 10.0])):\n",
    "    \"\"\"\n",
    "    curve_fit function from SciPy\n",
    "    https://docs.scipy.org/doc/scipy/reference/generated/scipy.optimize.curve_fit.html\n",
    "    \"\"\"\n",
    "    B = adsorption[find_nearest(pressure, 1.0)]\n",
    "    if eq_drpdown.value == 'FL':\n",
    "        curve = [np.nan, np.nan, np.nan]\n",
    "        model_parameters_bounds=([np.max(adsorption), B - (B/3), 1.11], \n",
    "                                 [np.inf, B + (B/3), 10.0])\n",
    "    elif eq_drpdown.value == 'L':\n",
    "        curve = [np.nan, np.nan]\n",
    "        # 1-ый вариант\n",
    "#         model_parameters_bounds=([np.max(adsorption), B - (B/3)],\n",
    "#                                  [np.inf, B + (B/3)])\n",
    "        # нужный вариант\n",
    "        model_parameters_bounds=([0.0, 0.0],\n",
    "                                 [np.inf, np.inf])\n",
    "    elif eq_drpdown.value == 'F':\n",
    "        curve = [np.nan, np.nan]\n",
    "        model_parameters_bounds=([B - (B/3), 1.11],\n",
    "                                 [B + (B/3), 10.0])\n",
    "    try:\n",
    "        curve, _ = curve_fit(f=model, xdata=pressure, ydata=adsorption,\n",
    "                             bounds=model_parameters_bounds)\n",
    "    except RuntimeError:\n",
    "        pass\n",
    "    except ValueError:\n",
    "        pass\n",
    "    finally:\n",
    "        try:\n",
    "            res = adsorption - model(np.array(pressure), *curve)\n",
    "        except TypeError:\n",
    "            curve = np.append(curve, np.nan)\n",
    "        else:\n",
    "            ss_res = np.sum(pow(res, 2))\n",
    "            ss_tot = np.sum((adsorption-np.mean(adsorption))**2)\n",
    "            r_squared = 1 - (ss_res / ss_tot)\n",
    "            if r_squared <= 0:\n",
    "                r_squared = 0\n",
    "            curve = np.append(curve, r_squared)\n",
    "        return curve"
   ]
  },
  {
   "cell_type": "code",
   "execution_count": 23,
   "metadata": {},
   "outputs": [
    {
     "name": "stderr",
     "output_type": "stream",
     "text": [
      "C:\\ProgramData\\Anaconda3\\NewAnaconda3\\lib\\site-packages\\scipy\\optimize\\minpack.py:828: OptimizeWarning: Covariance of the parameters could not be estimated\n",
      "  warnings.warn('Covariance of the parameters could not be estimated',\n",
      "<ipython-input-22-9cc996c651eb>:45: RuntimeWarning: divide by zero encountered in double_scalars\n",
      "  r_squared = 1 - (ss_res / ss_tot)\n"
     ]
    },
    {
     "name": "stdout",
     "output_type": "stream",
     "text": [
      "Wall time: 30.3 s\n"
     ]
    }
   ],
   "source": [
    "%%time\n",
    "if eq_drpdown.value == 'FL':\n",
    "    df_iso['g_inf'], df_iso['K'], df_iso['n'], df_iso['R2'] = \\\n",
    "    zip(*df_iso[['pressure', 'adsorption']].apply(lambda data: fit_isotherm(data[0], data[1], freundlich_langmuir_model), axis=1))\n",
    "elif eq_drpdown.value == 'L':\n",
    "    df_iso['g_inf'], df_iso['K'], df_iso['R2'] = \\\n",
    "    zip(*df_iso[['pressure', 'adsorption']].apply(lambda data: fit_isotherm(data[0], data[1], langmuir_model), axis=1))\n",
    "elif eq_drpdown.value == 'F':\n",
    "    df_iso['K'], df_iso['n'], df_iso['R2'] = \\\n",
    "    zip(*df_iso[['pressure', 'adsorption']].apply(lambda data: fit_isotherm(data[0], data[1], freundlich_model), axis=1))"
   ]
  },
  {
   "cell_type": "code",
   "execution_count": 24,
   "metadata": {},
   "outputs": [
    {
     "data": {
      "text/plain": [
       "mmol/g    1954\n",
       "Name: ads_units, dtype: int64"
      ]
     },
     "execution_count": 24,
     "metadata": {},
     "output_type": "execute_result"
    }
   ],
   "source": [
    "df_iso = df_iso.dropna()\n",
    "df_iso.reset_index(inplace=True, drop=True)\n",
    "df_iso['doi'] = \"http://dx.doi.org/\"+ df_iso['doi'].str.lower()\n",
    "# Saving to excel\n",
    "if eq_drpdown.value == 'FL':\n",
    "    df_iso.to_excel(\"CO2_mmol_g_FL.xlsx\")\n",
    "elif eq_drpdown.value == 'L':\n",
    "    df_iso.to_excel(\"CO2_mmol_g_L.xlsx\")\n",
    "elif eq_drpdown.value == 'F':\n",
    "    df_iso.to_excel(\"CO2_mmol_g_F.xlsx\")\n",
    "df_iso['ads_units'].value_counts()"
   ]
  },
  {
   "cell_type": "code",
   "execution_count": 25,
   "metadata": {},
   "outputs": [
    {
     "data": {
      "text/html": [
       "<div>\n",
       "<style scoped>\n",
       "    .dataframe tbody tr th:only-of-type {\n",
       "        vertical-align: middle;\n",
       "    }\n",
       "\n",
       "    .dataframe tbody tr th {\n",
       "        vertical-align: top;\n",
       "    }\n",
       "\n",
       "    .dataframe thead th {\n",
       "        text-align: right;\n",
       "    }\n",
       "</style>\n",
       "<table border=\"1\" class=\"dataframe\">\n",
       "  <thead>\n",
       "    <tr style=\"text-align: right;\">\n",
       "      <th></th>\n",
       "      <th>doi</th>\n",
       "      <th>category</th>\n",
       "      <th>adsorbent</th>\n",
       "      <th>adsorbate</th>\n",
       "      <th>temperature</th>\n",
       "      <th>p_units</th>\n",
       "      <th>ads_units</th>\n",
       "      <th>pressure</th>\n",
       "      <th>adsorption</th>\n",
       "      <th>g_inf</th>\n",
       "      <th>K</th>\n",
       "      <th>R2</th>\n",
       "    </tr>\n",
       "  </thead>\n",
       "  <tbody>\n",
       "    <tr>\n",
       "      <th>0</th>\n",
       "      <td>http://dx.doi.org/10.1002/adfm.201200084</td>\n",
       "      <td></td>\n",
       "      <td>NH2-MIL-53(Al)</td>\n",
       "      <td>Carbon Dioxide</td>\n",
       "      <td>273</td>\n",
       "      <td>bar</td>\n",
       "      <td>mmol/g</td>\n",
       "      <td>[0.42318, 0.676969, 1.01993, 1.36288, 1.70644,...</td>\n",
       "      <td>[0.3864669642857143, 0.6226428571428572, 0.772...</td>\n",
       "      <td>3.235962</td>\n",
       "      <td>0.206426</td>\n",
       "      <td>0.973719</td>\n",
       "    </tr>\n",
       "    <tr>\n",
       "      <th>1</th>\n",
       "      <td>http://dx.doi.org/10.1002/adfm.201200084</td>\n",
       "      <td></td>\n",
       "      <td>NH2-MIL-53(Al)</td>\n",
       "      <td>Carbon Dioxide</td>\n",
       "      <td>298</td>\n",
       "      <td>bar</td>\n",
       "      <td>mmol/g</td>\n",
       "      <td>[0.678881, 1.35654, 1.86693, 2.54398, 3.22102,...</td>\n",
       "      <td>[0.09775803571428571, 0.17922321428571428, 0.2...</td>\n",
       "      <td>2.743010</td>\n",
       "      <td>0.048580</td>\n",
       "      <td>0.995877</td>\n",
       "    </tr>\n",
       "    <tr>\n",
       "      <th>2</th>\n",
       "      <td>http://dx.doi.org/10.1002/adfm.201300071</td>\n",
       "      <td></td>\n",
       "      <td>CCT1</td>\n",
       "      <td>Carbon Dioxide</td>\n",
       "      <td>273</td>\n",
       "      <td>bar</td>\n",
       "      <td>mmol/g</td>\n",
       "      <td>[0.0126608, 0.0422383, 0.0746326, 0.112661, 0....</td>\n",
       "      <td>[0.098115625, 0.2917776785714286, 0.4275924107...</td>\n",
       "      <td>1.801740</td>\n",
       "      <td>3.012629</td>\n",
       "      <td>0.984611</td>\n",
       "    </tr>\n",
       "    <tr>\n",
       "      <th>3</th>\n",
       "      <td>http://dx.doi.org/10.1002/adfm.201300071</td>\n",
       "      <td></td>\n",
       "      <td>CCT1</td>\n",
       "      <td>Carbon Dioxide</td>\n",
       "      <td>273</td>\n",
       "      <td>bar</td>\n",
       "      <td>mmol/g</td>\n",
       "      <td>[0.0182946, 0.0408298, 0.0816749, 0.129562, 0....</td>\n",
       "      <td>[0.09057053571428571, 0.2188401785714286, 0.33...</td>\n",
       "      <td>1.954641</td>\n",
       "      <td>2.058002</td>\n",
       "      <td>0.991906</td>\n",
       "    </tr>\n",
       "    <tr>\n",
       "      <th>4</th>\n",
       "      <td>http://dx.doi.org/10.1002/adfm.201300071</td>\n",
       "      <td></td>\n",
       "      <td>CT</td>\n",
       "      <td>Carbon Dioxide</td>\n",
       "      <td>273</td>\n",
       "      <td>bar</td>\n",
       "      <td>mmol/g</td>\n",
       "      <td>[0.0408298, 0.0999848, 0.161957, 0.218295, 0.2...</td>\n",
       "      <td>[0.18865892857142857, 0.34710982142857144, 0.4...</td>\n",
       "      <td>1.767504</td>\n",
       "      <td>2.060469</td>\n",
       "      <td>0.992460</td>\n",
       "    </tr>\n",
       "  </tbody>\n",
       "</table>\n",
       "</div>"
      ],
      "text/plain": [
       "                                        doi category       adsorbent  \\\n",
       "0  http://dx.doi.org/10.1002/adfm.201200084           NH2-MIL-53(Al)   \n",
       "1  http://dx.doi.org/10.1002/adfm.201200084           NH2-MIL-53(Al)   \n",
       "2  http://dx.doi.org/10.1002/adfm.201300071                     CCT1   \n",
       "3  http://dx.doi.org/10.1002/adfm.201300071                     CCT1   \n",
       "4  http://dx.doi.org/10.1002/adfm.201300071                       CT   \n",
       "\n",
       "        adsorbate  temperature p_units ads_units  \\\n",
       "0  Carbon Dioxide          273     bar    mmol/g   \n",
       "1  Carbon Dioxide          298     bar    mmol/g   \n",
       "2  Carbon Dioxide          273     bar    mmol/g   \n",
       "3  Carbon Dioxide          273     bar    mmol/g   \n",
       "4  Carbon Dioxide          273     bar    mmol/g   \n",
       "\n",
       "                                            pressure  \\\n",
       "0  [0.42318, 0.676969, 1.01993, 1.36288, 1.70644,...   \n",
       "1  [0.678881, 1.35654, 1.86693, 2.54398, 3.22102,...   \n",
       "2  [0.0126608, 0.0422383, 0.0746326, 0.112661, 0....   \n",
       "3  [0.0182946, 0.0408298, 0.0816749, 0.129562, 0....   \n",
       "4  [0.0408298, 0.0999848, 0.161957, 0.218295, 0.2...   \n",
       "\n",
       "                                          adsorption     g_inf         K  \\\n",
       "0  [0.3864669642857143, 0.6226428571428572, 0.772...  3.235962  0.206426   \n",
       "1  [0.09775803571428571, 0.17922321428571428, 0.2...  2.743010  0.048580   \n",
       "2  [0.098115625, 0.2917776785714286, 0.4275924107...  1.801740  3.012629   \n",
       "3  [0.09057053571428571, 0.2188401785714286, 0.33...  1.954641  2.058002   \n",
       "4  [0.18865892857142857, 0.34710982142857144, 0.4...  1.767504  2.060469   \n",
       "\n",
       "         R2  \n",
       "0  0.973719  \n",
       "1  0.995877  \n",
       "2  0.984611  \n",
       "3  0.991906  \n",
       "4  0.992460  "
      ]
     },
     "execution_count": 25,
     "metadata": {},
     "output_type": "execute_result"
    }
   ],
   "source": [
    "df_iso.head(5)"
   ]
  },
  {
   "cell_type": "markdown",
   "metadata": {},
   "source": [
    "# Поиск ref кода"
   ]
  },
  {
   "cell_type": "code",
   "execution_count": 26,
   "metadata": {},
   "outputs": [],
   "source": [
    "conq = pd.read_excel(\"conquest.xlsx\")"
   ]
  },
  {
   "cell_type": "code",
   "execution_count": 27,
   "metadata": {},
   "outputs": [],
   "source": [
    "df_fin = pd.merge(df_iso,conq,on='doi', how='left')\n",
    "# df_fin.to_excel(\"CO2_mmol_g_Langmuer_ref.xlsx\")"
   ]
  },
  {
   "cell_type": "markdown",
   "metadata": {},
   "source": [
    "# Распределение R^2"
   ]
  },
  {
   "cell_type": "code",
   "execution_count": 28,
   "metadata": {},
   "outputs": [
    {
     "data": {
      "text/plain": [
       "array([[<AxesSubplot:title={'center':'R2'}>]], dtype=object)"
      ]
     },
     "execution_count": 28,
     "metadata": {},
     "output_type": "execute_result"
    },
    {
     "data": {
      "image/png": "[encoded data removed]",
      "text/plain": [
       "<Figure size 432x288 with 1 Axes>"
      ]
     },
     "metadata": {
      "needs_background": "light"
     },
     "output_type": "display_data"
    }
   ],
   "source": [
    "df_iso.hist(column='R2')"
   ]
  },
  {
   "cell_type": "markdown",
   "metadata": {},
   "source": [
    "# Фильтруем набор данных"
   ]
  },
  {
   "cell_type": "markdown",
   "metadata": {},
   "source": [
    "Из полученного датасета с обозначенными Ref кодами, оставляем только соединения где: \n",
    "- `Т = [273, 298] К`, \n",
    "- `g_inf <= 1000`"
   ]
  },
  {
   "cell_type": "code",
   "execution_count": 29,
   "metadata": {},
   "outputs": [
    {
     "name": "stderr",
     "output_type": "stream",
     "text": [
      "C:\\ProgramData\\Anaconda3\\NewAnaconda3\\lib\\site-packages\\pandas\\core\\frame.py:4441: SettingWithCopyWarning: \n",
      "A value is trying to be set on a copy of a slice from a DataFrame\n",
      "\n",
      "See the caveats in the documentation: https://pandas.pydata.org/pandas-docs/stable/user_guide/indexing.html#returning-a-view-versus-a-copy\n",
      "  return super().rename(\n"
     ]
    },
    {
     "data": {
      "text/html": [
       "<div>\n",
       "<style scoped>\n",
       "    .dataframe tbody tr th:only-of-type {\n",
       "        vertical-align: middle;\n",
       "    }\n",
       "\n",
       "    .dataframe tbody tr th {\n",
       "        vertical-align: top;\n",
       "    }\n",
       "\n",
       "    .dataframe thead th {\n",
       "        text-align: right;\n",
       "    }\n",
       "</style>\n",
       "<table border=\"1\" class=\"dataframe\">\n",
       "  <thead>\n",
       "    <tr style=\"text-align: right;\">\n",
       "      <th></th>\n",
       "      <th>doi</th>\n",
       "      <th>category</th>\n",
       "      <th>adsorbent</th>\n",
       "      <th>adsorbate</th>\n",
       "      <th>temperature</th>\n",
       "      <th>p_units</th>\n",
       "      <th>ads_units</th>\n",
       "      <th>pressure</th>\n",
       "      <th>adsorption</th>\n",
       "      <th>g_inf</th>\n",
       "      <th>K</th>\n",
       "      <th>R2</th>\n",
       "      <th>chemname</th>\n",
       "      <th>refcode</th>\n",
       "      <th>chemformula</th>\n",
       "      <th>min_delta_T_298</th>\n",
       "    </tr>\n",
       "  </thead>\n",
       "  <tbody>\n",
       "    <tr>\n",
       "      <th>1</th>\n",
       "      <td>http://dx.doi.org/10.1002/adfm.201200084</td>\n",
       "      <td></td>\n",
       "      <td>NH2-MIL-53(Al)</td>\n",
       "      <td>Carbon Dioxide</td>\n",
       "      <td>298</td>\n",
       "      <td>bar</td>\n",
       "      <td>mmol/g</td>\n",
       "      <td>[0.678881, 1.35654, 1.86693, 2.54398, 3.22102,...</td>\n",
       "      <td>[0.09775803571428571, 0.17922321428571428, 0.2...</td>\n",
       "      <td>2.743010</td>\n",
       "      <td>0.048580</td>\n",
       "      <td>0.995877</td>\n",
       "      <td>NaN</td>\n",
       "      <td>NaN</td>\n",
       "      <td>NaN</td>\n",
       "      <td>298</td>\n",
       "    </tr>\n",
       "    <tr>\n",
       "      <th>2</th>\n",
       "      <td>http://dx.doi.org/10.1002/adfm.201300071</td>\n",
       "      <td></td>\n",
       "      <td>CCT1</td>\n",
       "      <td>Carbon Dioxide</td>\n",
       "      <td>273</td>\n",
       "      <td>bar</td>\n",
       "      <td>mmol/g</td>\n",
       "      <td>[0.0126608, 0.0422383, 0.0746326, 0.112661, 0....</td>\n",
       "      <td>[0.098115625, 0.2917776785714286, 0.4275924107...</td>\n",
       "      <td>1.801740</td>\n",
       "      <td>3.012629</td>\n",
       "      <td>0.984611</td>\n",
       "      <td>NaN</td>\n",
       "      <td>NaN</td>\n",
       "      <td>NaN</td>\n",
       "      <td>273</td>\n",
       "    </tr>\n",
       "    <tr>\n",
       "      <th>3</th>\n",
       "      <td>http://dx.doi.org/10.1002/adfm.201300071</td>\n",
       "      <td></td>\n",
       "      <td>CCT1</td>\n",
       "      <td>Carbon Dioxide</td>\n",
       "      <td>273</td>\n",
       "      <td>bar</td>\n",
       "      <td>mmol/g</td>\n",
       "      <td>[0.0182946, 0.0408298, 0.0816749, 0.129562, 0....</td>\n",
       "      <td>[0.09057053571428571, 0.2188401785714286, 0.33...</td>\n",
       "      <td>1.954641</td>\n",
       "      <td>2.058002</td>\n",
       "      <td>0.991906</td>\n",
       "      <td>NaN</td>\n",
       "      <td>NaN</td>\n",
       "      <td>NaN</td>\n",
       "      <td>273</td>\n",
       "    </tr>\n",
       "    <tr>\n",
       "      <th>4</th>\n",
       "      <td>http://dx.doi.org/10.1002/adfm.201300071</td>\n",
       "      <td></td>\n",
       "      <td>CT</td>\n",
       "      <td>Carbon Dioxide</td>\n",
       "      <td>273</td>\n",
       "      <td>bar</td>\n",
       "      <td>mmol/g</td>\n",
       "      <td>[0.0408298, 0.0999848, 0.161957, 0.218295, 0.2...</td>\n",
       "      <td>[0.18865892857142857, 0.34710982142857144, 0.4...</td>\n",
       "      <td>1.767504</td>\n",
       "      <td>2.060469</td>\n",
       "      <td>0.992460</td>\n",
       "      <td>NaN</td>\n",
       "      <td>NaN</td>\n",
       "      <td>NaN</td>\n",
       "      <td>273</td>\n",
       "    </tr>\n",
       "    <tr>\n",
       "      <th>5</th>\n",
       "      <td>http://dx.doi.org/10.1002/adfm.201300071</td>\n",
       "      <td></td>\n",
       "      <td>CCT1</td>\n",
       "      <td>Carbon Dioxide</td>\n",
       "      <td>273</td>\n",
       "      <td>bar</td>\n",
       "      <td>mmol/g</td>\n",
       "      <td>[0.0112524, 0.0816749, 0.161957, 0.221112, 0.2...</td>\n",
       "      <td>[0.098115625, 0.31944375, 0.45777232142857144,...</td>\n",
       "      <td>1.592324</td>\n",
       "      <td>2.275958</td>\n",
       "      <td>0.988556</td>\n",
       "      <td>NaN</td>\n",
       "      <td>NaN</td>\n",
       "      <td>NaN</td>\n",
       "      <td>273</td>\n",
       "    </tr>\n",
       "    <tr>\n",
       "      <th>...</th>\n",
       "      <td>...</td>\n",
       "      <td>...</td>\n",
       "      <td>...</td>\n",
       "      <td>...</td>\n",
       "      <td>...</td>\n",
       "      <td>...</td>\n",
       "      <td>...</td>\n",
       "      <td>...</td>\n",
       "      <td>...</td>\n",
       "      <td>...</td>\n",
       "      <td>...</td>\n",
       "      <td>...</td>\n",
       "      <td>...</td>\n",
       "      <td>...</td>\n",
       "      <td>...</td>\n",
       "      <td>...</td>\n",
       "    </tr>\n",
       "    <tr>\n",
       "      <th>2880</th>\n",
       "      <td>http://dx.doi.org/10.1021/jp105464u</td>\n",
       "      <td></td>\n",
       "      <td>MCM-41</td>\n",
       "      <td>Carbon Dioxide</td>\n",
       "      <td>298</td>\n",
       "      <td>bar</td>\n",
       "      <td>mmol/g</td>\n",
       "      <td>[0.586854, 1.05634, 1.99531, 2.8169, 4.92958, ...</td>\n",
       "      <td>[0.298558, 0.675768, 0.942769, 1.28842, 1.7280...</td>\n",
       "      <td>5.071722</td>\n",
       "      <td>0.108041</td>\n",
       "      <td>0.992959</td>\n",
       "      <td>NaN</td>\n",
       "      <td>NaN</td>\n",
       "      <td>NaN</td>\n",
       "      <td>298</td>\n",
       "    </tr>\n",
       "    <tr>\n",
       "      <th>2881</th>\n",
       "      <td>http://dx.doi.org/10.1021/jp105464u</td>\n",
       "      <td></td>\n",
       "      <td>MCM-41</td>\n",
       "      <td>Carbon Dioxide</td>\n",
       "      <td>298</td>\n",
       "      <td>bar</td>\n",
       "      <td>mmol/g</td>\n",
       "      <td>[1.76056, 2.93427, 4.81221, 7.15962, 9.97653, ...</td>\n",
       "      <td>[0.596931, 0.800964, 1.06767, 1.34995, 1.60064...</td>\n",
       "      <td>3.956038</td>\n",
       "      <td>0.070144</td>\n",
       "      <td>0.986892</td>\n",
       "      <td>NaN</td>\n",
       "      <td>NaN</td>\n",
       "      <td>NaN</td>\n",
       "      <td>298</td>\n",
       "    </tr>\n",
       "    <tr>\n",
       "      <th>2882</th>\n",
       "      <td>http://dx.doi.org/10.1021/jp105464u</td>\n",
       "      <td></td>\n",
       "      <td>MCM-41</td>\n",
       "      <td>Carbon Dioxide</td>\n",
       "      <td>298</td>\n",
       "      <td>bar</td>\n",
       "      <td>mmol/g</td>\n",
       "      <td>[0.938967, 1.87793, 3.16901, 5.04695, 7.04225,...</td>\n",
       "      <td>[0.251277, 0.534001, 0.596488, 0.84747, 1.0826...</td>\n",
       "      <td>2.239523</td>\n",
       "      <td>0.119470</td>\n",
       "      <td>0.986929</td>\n",
       "      <td>NaN</td>\n",
       "      <td>NaN</td>\n",
       "      <td>NaN</td>\n",
       "      <td>298</td>\n",
       "    </tr>\n",
       "    <tr>\n",
       "      <th>2883</th>\n",
       "      <td>http://dx.doi.org/10.1021/jp105464u</td>\n",
       "      <td></td>\n",
       "      <td>MCM-41</td>\n",
       "      <td>Carbon Dioxide</td>\n",
       "      <td>298</td>\n",
       "      <td>bar</td>\n",
       "      <td>mmol/g</td>\n",
       "      <td>[0.821596, 1.99531, 3.16901, 5.04695, 6.80751,...</td>\n",
       "      <td>[0.078358, 0.140882, 0.187683, 0.312878, 0.406...</td>\n",
       "      <td>2.894251</td>\n",
       "      <td>0.022941</td>\n",
       "      <td>0.998881</td>\n",
       "      <td>NaN</td>\n",
       "      <td>NaN</td>\n",
       "      <td>NaN</td>\n",
       "      <td>298</td>\n",
       "    </tr>\n",
       "    <tr>\n",
       "      <th>2884</th>\n",
       "      <td>http://dx.doi.org/10.1021/jp105464u</td>\n",
       "      <td></td>\n",
       "      <td>MCM-41</td>\n",
       "      <td>Carbon Dioxide</td>\n",
       "      <td>298</td>\n",
       "      <td>bar</td>\n",
       "      <td>mmol/g</td>\n",
       "      <td>[0.234742, 0.586854, 1.05634, 2.23005, 3.05164...</td>\n",
       "      <td>[0.0313727, 0.157048, 0.219794, 0.329487, 0.45...</td>\n",
       "      <td>1.204697</td>\n",
       "      <td>0.168894</td>\n",
       "      <td>0.983911</td>\n",
       "      <td>NaN</td>\n",
       "      <td>NaN</td>\n",
       "      <td>NaN</td>\n",
       "      <td>298</td>\n",
       "    </tr>\n",
       "  </tbody>\n",
       "</table>\n",
       "<p>1296 rows × 16 columns</p>\n",
       "</div>"
      ],
      "text/plain": [
       "                                           doi category       adsorbent  \\\n",
       "1     http://dx.doi.org/10.1002/adfm.201200084           NH2-MIL-53(Al)   \n",
       "2     http://dx.doi.org/10.1002/adfm.201300071                     CCT1   \n",
       "3     http://dx.doi.org/10.1002/adfm.201300071                     CCT1   \n",
       "4     http://dx.doi.org/10.1002/adfm.201300071                       CT   \n",
       "5     http://dx.doi.org/10.1002/adfm.201300071                     CCT1   \n",
       "...                                        ...      ...             ...   \n",
       "2880       http://dx.doi.org/10.1021/jp105464u                   MCM-41   \n",
       "2881       http://dx.doi.org/10.1021/jp105464u                   MCM-41   \n",
       "2882       http://dx.doi.org/10.1021/jp105464u                   MCM-41   \n",
       "2883       http://dx.doi.org/10.1021/jp105464u                   MCM-41   \n",
       "2884       http://dx.doi.org/10.1021/jp105464u                   MCM-41   \n",
       "\n",
       "           adsorbate  temperature p_units ads_units  \\\n",
       "1     Carbon Dioxide          298     bar    mmol/g   \n",
       "2     Carbon Dioxide          273     bar    mmol/g   \n",
       "3     Carbon Dioxide          273     bar    mmol/g   \n",
       "4     Carbon Dioxide          273     bar    mmol/g   \n",
       "5     Carbon Dioxide          273     bar    mmol/g   \n",
       "...              ...          ...     ...       ...   \n",
       "2880  Carbon Dioxide          298     bar    mmol/g   \n",
       "2881  Carbon Dioxide          298     bar    mmol/g   \n",
       "2882  Carbon Dioxide          298     bar    mmol/g   \n",
       "2883  Carbon Dioxide          298     bar    mmol/g   \n",
       "2884  Carbon Dioxide          298     bar    mmol/g   \n",
       "\n",
       "                                               pressure  \\\n",
       "1     [0.678881, 1.35654, 1.86693, 2.54398, 3.22102,...   \n",
       "2     [0.0126608, 0.0422383, 0.0746326, 0.112661, 0....   \n",
       "3     [0.0182946, 0.0408298, 0.0816749, 0.129562, 0....   \n",
       "4     [0.0408298, 0.0999848, 0.161957, 0.218295, 0.2...   \n",
       "5     [0.0112524, 0.0816749, 0.161957, 0.221112, 0.2...   \n",
       "...                                                 ...   \n",
       "2880  [0.586854, 1.05634, 1.99531, 2.8169, 4.92958, ...   \n",
       "2881  [1.76056, 2.93427, 4.81221, 7.15962, 9.97653, ...   \n",
       "2882  [0.938967, 1.87793, 3.16901, 5.04695, 7.04225,...   \n",
       "2883  [0.821596, 1.99531, 3.16901, 5.04695, 6.80751,...   \n",
       "2884  [0.234742, 0.586854, 1.05634, 2.23005, 3.05164...   \n",
       "\n",
       "                                             adsorption     g_inf         K  \\\n",
       "1     [0.09775803571428571, 0.17922321428571428, 0.2...  2.743010  0.048580   \n",
       "2     [0.098115625, 0.2917776785714286, 0.4275924107...  1.801740  3.012629   \n",
       "3     [0.09057053571428571, 0.2188401785714286, 0.33...  1.954641  2.058002   \n",
       "4     [0.18865892857142857, 0.34710982142857144, 0.4...  1.767504  2.060469   \n",
       "5     [0.098115625, 0.31944375, 0.45777232142857144,...  1.592324  2.275958   \n",
       "...                                                 ...       ...       ...   \n",
       "2880  [0.298558, 0.675768, 0.942769, 1.28842, 1.7280...  5.071722  0.108041   \n",
       "2881  [0.596931, 0.800964, 1.06767, 1.34995, 1.60064...  3.956038  0.070144   \n",
       "2882  [0.251277, 0.534001, 0.596488, 0.84747, 1.0826...  2.239523  0.119470   \n",
       "2883  [0.078358, 0.140882, 0.187683, 0.312878, 0.406...  2.894251  0.022941   \n",
       "2884  [0.0313727, 0.157048, 0.219794, 0.329487, 0.45...  1.204697  0.168894   \n",
       "\n",
       "            R2 chemname refcode chemformula  min_delta_T_298  \n",
       "1     0.995877      NaN     NaN         NaN              298  \n",
       "2     0.984611      NaN     NaN         NaN              273  \n",
       "3     0.991906      NaN     NaN         NaN              273  \n",
       "4     0.992460      NaN     NaN         NaN              273  \n",
       "5     0.988556      NaN     NaN         NaN              273  \n",
       "...        ...      ...     ...         ...              ...  \n",
       "2880  0.992959      NaN     NaN         NaN              298  \n",
       "2881  0.986892      NaN     NaN         NaN              298  \n",
       "2882  0.986929      NaN     NaN         NaN              298  \n",
       "2883  0.998881      NaN     NaN         NaN              298  \n",
       "2884  0.983911      NaN     NaN         NaN              298  \n",
       "\n",
       "[1296 rows x 16 columns]"
      ]
     },
     "execution_count": 29,
     "metadata": {},
     "output_type": "execute_result"
    }
   ],
   "source": [
    "df_filt = df_fin.query(\"273 <= temperature <= 323 and R2 >= 0.95 and category != 'mod' and category != 'sim'\")\n",
    "df_filt.rename(columns={'Title': 'chemname', 'Label': 'refcode', 'Short Title': 'chemformula'}, inplace=True)\n",
    "df_filt = df_filt[(df_filt['g_inf'] <= df_filt['g_inf'].quantile(q=0.99)) & (df_filt['K'] <= df_filt['K'].quantile(q=0.99))]\n",
    "df_filt['min_delta_T_298'] = df_filt.groupby('adsorbent')['temperature'].transform(lambda s: s[np.abs(s - 298).idxmin()])\n",
    "df_dataset = df_filt[df_filt['temperature'] == df_filt['min_delta_T_298']]\n",
    "df_dataset"
   ]
  },
  {
   "cell_type": "markdown",
   "metadata": {},
   "source": [
    "# Убираем лишнее"
   ]
  },
  {
   "cell_type": "code",
   "execution_count": 30,
   "metadata": {},
   "outputs": [
    {
     "name": "stderr",
     "output_type": "stream",
     "text": [
      "C:\\ProgramData\\Anaconda3\\NewAnaconda3\\lib\\site-packages\\pandas\\core\\frame.py:4441: SettingWithCopyWarning: \n",
      "A value is trying to be set on a copy of a slice from a DataFrame\n",
      "\n",
      "See the caveats in the documentation: https://pandas.pydata.org/pandas-docs/stable/user_guide/indexing.html#returning-a-view-versus-a-copy\n",
      "  return super().rename(\n",
      "C:\\ProgramData\\Anaconda3\\NewAnaconda3\\lib\\site-packages\\pandas\\core\\frame.py:4308: SettingWithCopyWarning: \n",
      "A value is trying to be set on a copy of a slice from a DataFrame\n",
      "\n",
      "See the caveats in the documentation: https://pandas.pydata.org/pandas-docs/stable/user_guide/indexing.html#returning-a-view-versus-a-copy\n",
      "  return super().drop(\n"
     ]
    },
    {
     "data": {
      "text/html": [
       "<div>\n",
       "<style scoped>\n",
       "    .dataframe tbody tr th:only-of-type {\n",
       "        vertical-align: middle;\n",
       "    }\n",
       "\n",
       "    .dataframe tbody tr th {\n",
       "        vertical-align: top;\n",
       "    }\n",
       "\n",
       "    .dataframe thead th {\n",
       "        text-align: right;\n",
       "    }\n",
       "</style>\n",
       "<table border=\"1\" class=\"dataframe\">\n",
       "  <thead>\n",
       "    <tr style=\"text-align: right;\">\n",
       "      <th></th>\n",
       "      <th>doi</th>\n",
       "      <th>adsorbent</th>\n",
       "      <th>temperature</th>\n",
       "      <th>pressure(bar)</th>\n",
       "      <th>adsorption(mmol/g)</th>\n",
       "      <th>g_inf</th>\n",
       "      <th>K</th>\n",
       "      <th>R2</th>\n",
       "      <th>chemname</th>\n",
       "      <th>refcode</th>\n",
       "      <th>chemformula</th>\n",
       "    </tr>\n",
       "  </thead>\n",
       "  <tbody>\n",
       "    <tr>\n",
       "      <th>1</th>\n",
       "      <td>http://dx.doi.org/10.1002/adfm.201200084</td>\n",
       "      <td>NH2-MIL-53(Al)</td>\n",
       "      <td>298</td>\n",
       "      <td>[0.678881, 1.35654, 1.86693, 2.54398, 3.22102,...</td>\n",
       "      <td>[0.09775803571428571, 0.17922321428571428, 0.2...</td>\n",
       "      <td>2.743010</td>\n",
       "      <td>0.048580</td>\n",
       "      <td>0.995877</td>\n",
       "      <td>NaN</td>\n",
       "      <td>NaN</td>\n",
       "      <td>NaN</td>\n",
       "    </tr>\n",
       "    <tr>\n",
       "      <th>2</th>\n",
       "      <td>http://dx.doi.org/10.1002/adfm.201300071</td>\n",
       "      <td>CCT1</td>\n",
       "      <td>273</td>\n",
       "      <td>[0.0126608, 0.0422383, 0.0746326, 0.112661, 0....</td>\n",
       "      <td>[0.098115625, 0.2917776785714286, 0.4275924107...</td>\n",
       "      <td>1.801740</td>\n",
       "      <td>3.012629</td>\n",
       "      <td>0.984611</td>\n",
       "      <td>NaN</td>\n",
       "      <td>NaN</td>\n",
       "      <td>NaN</td>\n",
       "    </tr>\n",
       "    <tr>\n",
       "      <th>3</th>\n",
       "      <td>http://dx.doi.org/10.1002/adfm.201300071</td>\n",
       "      <td>CCT1</td>\n",
       "      <td>273</td>\n",
       "      <td>[0.0182946, 0.0408298, 0.0816749, 0.129562, 0....</td>\n",
       "      <td>[0.09057053571428571, 0.2188401785714286, 0.33...</td>\n",
       "      <td>1.954641</td>\n",
       "      <td>2.058002</td>\n",
       "      <td>0.991906</td>\n",
       "      <td>NaN</td>\n",
       "      <td>NaN</td>\n",
       "      <td>NaN</td>\n",
       "    </tr>\n",
       "    <tr>\n",
       "      <th>4</th>\n",
       "      <td>http://dx.doi.org/10.1002/adfm.201300071</td>\n",
       "      <td>CT</td>\n",
       "      <td>273</td>\n",
       "      <td>[0.0408298, 0.0999848, 0.161957, 0.218295, 0.2...</td>\n",
       "      <td>[0.18865892857142857, 0.34710982142857144, 0.4...</td>\n",
       "      <td>1.767504</td>\n",
       "      <td>2.060469</td>\n",
       "      <td>0.992460</td>\n",
       "      <td>NaN</td>\n",
       "      <td>NaN</td>\n",
       "      <td>NaN</td>\n",
       "    </tr>\n",
       "    <tr>\n",
       "      <th>5</th>\n",
       "      <td>http://dx.doi.org/10.1002/adfm.201300071</td>\n",
       "      <td>CCT1</td>\n",
       "      <td>273</td>\n",
       "      <td>[0.0112524, 0.0816749, 0.161957, 0.221112, 0.2...</td>\n",
       "      <td>[0.098115625, 0.31944375, 0.45777232142857144,...</td>\n",
       "      <td>1.592324</td>\n",
       "      <td>2.275958</td>\n",
       "      <td>0.988556</td>\n",
       "      <td>NaN</td>\n",
       "      <td>NaN</td>\n",
       "      <td>NaN</td>\n",
       "    </tr>\n",
       "    <tr>\n",
       "      <th>...</th>\n",
       "      <td>...</td>\n",
       "      <td>...</td>\n",
       "      <td>...</td>\n",
       "      <td>...</td>\n",
       "      <td>...</td>\n",
       "      <td>...</td>\n",
       "      <td>...</td>\n",
       "      <td>...</td>\n",
       "      <td>...</td>\n",
       "      <td>...</td>\n",
       "      <td>...</td>\n",
       "    </tr>\n",
       "    <tr>\n",
       "      <th>2880</th>\n",
       "      <td>http://dx.doi.org/10.1021/jp105464u</td>\n",
       "      <td>MCM-41</td>\n",
       "      <td>298</td>\n",
       "      <td>[0.586854, 1.05634, 1.99531, 2.8169, 4.92958, ...</td>\n",
       "      <td>[0.298558, 0.675768, 0.942769, 1.28842, 1.7280...</td>\n",
       "      <td>5.071722</td>\n",
       "      <td>0.108041</td>\n",
       "      <td>0.992959</td>\n",
       "      <td>NaN</td>\n",
       "      <td>NaN</td>\n",
       "      <td>NaN</td>\n",
       "    </tr>\n",
       "    <tr>\n",
       "      <th>2881</th>\n",
       "      <td>http://dx.doi.org/10.1021/jp105464u</td>\n",
       "      <td>MCM-41</td>\n",
       "      <td>298</td>\n",
       "      <td>[1.76056, 2.93427, 4.81221, 7.15962, 9.97653, ...</td>\n",
       "      <td>[0.596931, 0.800964, 1.06767, 1.34995, 1.60064...</td>\n",
       "      <td>3.956038</td>\n",
       "      <td>0.070144</td>\n",
       "      <td>0.986892</td>\n",
       "      <td>NaN</td>\n",
       "      <td>NaN</td>\n",
       "      <td>NaN</td>\n",
       "    </tr>\n",
       "    <tr>\n",
       "      <th>2882</th>\n",
       "      <td>http://dx.doi.org/10.1021/jp105464u</td>\n",
       "      <td>MCM-41</td>\n",
       "      <td>298</td>\n",
       "      <td>[0.938967, 1.87793, 3.16901, 5.04695, 7.04225,...</td>\n",
       "      <td>[0.251277, 0.534001, 0.596488, 0.84747, 1.0826...</td>\n",
       "      <td>2.239523</td>\n",
       "      <td>0.119470</td>\n",
       "      <td>0.986929</td>\n",
       "      <td>NaN</td>\n",
       "      <td>NaN</td>\n",
       "      <td>NaN</td>\n",
       "    </tr>\n",
       "    <tr>\n",
       "      <th>2883</th>\n",
       "      <td>http://dx.doi.org/10.1021/jp105464u</td>\n",
       "      <td>MCM-41</td>\n",
       "      <td>298</td>\n",
       "      <td>[0.821596, 1.99531, 3.16901, 5.04695, 6.80751,...</td>\n",
       "      <td>[0.078358, 0.140882, 0.187683, 0.312878, 0.406...</td>\n",
       "      <td>2.894251</td>\n",
       "      <td>0.022941</td>\n",
       "      <td>0.998881</td>\n",
       "      <td>NaN</td>\n",
       "      <td>NaN</td>\n",
       "      <td>NaN</td>\n",
       "    </tr>\n",
       "    <tr>\n",
       "      <th>2884</th>\n",
       "      <td>http://dx.doi.org/10.1021/jp105464u</td>\n",
       "      <td>MCM-41</td>\n",
       "      <td>298</td>\n",
       "      <td>[0.234742, 0.586854, 1.05634, 2.23005, 3.05164...</td>\n",
       "      <td>[0.0313727, 0.157048, 0.219794, 0.329487, 0.45...</td>\n",
       "      <td>1.204697</td>\n",
       "      <td>0.168894</td>\n",
       "      <td>0.983911</td>\n",
       "      <td>NaN</td>\n",
       "      <td>NaN</td>\n",
       "      <td>NaN</td>\n",
       "    </tr>\n",
       "  </tbody>\n",
       "</table>\n",
       "<p>1296 rows × 11 columns</p>\n",
       "</div>"
      ],
      "text/plain": [
       "                                           doi       adsorbent  temperature  \\\n",
       "1     http://dx.doi.org/10.1002/adfm.201200084  NH2-MIL-53(Al)          298   \n",
       "2     http://dx.doi.org/10.1002/adfm.201300071            CCT1          273   \n",
       "3     http://dx.doi.org/10.1002/adfm.201300071            CCT1          273   \n",
       "4     http://dx.doi.org/10.1002/adfm.201300071              CT          273   \n",
       "5     http://dx.doi.org/10.1002/adfm.201300071            CCT1          273   \n",
       "...                                        ...             ...          ...   \n",
       "2880       http://dx.doi.org/10.1021/jp105464u          MCM-41          298   \n",
       "2881       http://dx.doi.org/10.1021/jp105464u          MCM-41          298   \n",
       "2882       http://dx.doi.org/10.1021/jp105464u          MCM-41          298   \n",
       "2883       http://dx.doi.org/10.1021/jp105464u          MCM-41          298   \n",
       "2884       http://dx.doi.org/10.1021/jp105464u          MCM-41          298   \n",
       "\n",
       "                                          pressure(bar)  \\\n",
       "1     [0.678881, 1.35654, 1.86693, 2.54398, 3.22102,...   \n",
       "2     [0.0126608, 0.0422383, 0.0746326, 0.112661, 0....   \n",
       "3     [0.0182946, 0.0408298, 0.0816749, 0.129562, 0....   \n",
       "4     [0.0408298, 0.0999848, 0.161957, 0.218295, 0.2...   \n",
       "5     [0.0112524, 0.0816749, 0.161957, 0.221112, 0.2...   \n",
       "...                                                 ...   \n",
       "2880  [0.586854, 1.05634, 1.99531, 2.8169, 4.92958, ...   \n",
       "2881  [1.76056, 2.93427, 4.81221, 7.15962, 9.97653, ...   \n",
       "2882  [0.938967, 1.87793, 3.16901, 5.04695, 7.04225,...   \n",
       "2883  [0.821596, 1.99531, 3.16901, 5.04695, 6.80751,...   \n",
       "2884  [0.234742, 0.586854, 1.05634, 2.23005, 3.05164...   \n",
       "\n",
       "                                     adsorption(mmol/g)     g_inf         K  \\\n",
       "1     [0.09775803571428571, 0.17922321428571428, 0.2...  2.743010  0.048580   \n",
       "2     [0.098115625, 0.2917776785714286, 0.4275924107...  1.801740  3.012629   \n",
       "3     [0.09057053571428571, 0.2188401785714286, 0.33...  1.954641  2.058002   \n",
       "4     [0.18865892857142857, 0.34710982142857144, 0.4...  1.767504  2.060469   \n",
       "5     [0.098115625, 0.31944375, 0.45777232142857144,...  1.592324  2.275958   \n",
       "...                                                 ...       ...       ...   \n",
       "2880  [0.298558, 0.675768, 0.942769, 1.28842, 1.7280...  5.071722  0.108041   \n",
       "2881  [0.596931, 0.800964, 1.06767, 1.34995, 1.60064...  3.956038  0.070144   \n",
       "2882  [0.251277, 0.534001, 0.596488, 0.84747, 1.0826...  2.239523  0.119470   \n",
       "2883  [0.078358, 0.140882, 0.187683, 0.312878, 0.406...  2.894251  0.022941   \n",
       "2884  [0.0313727, 0.157048, 0.219794, 0.329487, 0.45...  1.204697  0.168894   \n",
       "\n",
       "            R2 chemname refcode chemformula  \n",
       "1     0.995877      NaN     NaN         NaN  \n",
       "2     0.984611      NaN     NaN         NaN  \n",
       "3     0.991906      NaN     NaN         NaN  \n",
       "4     0.992460      NaN     NaN         NaN  \n",
       "5     0.988556      NaN     NaN         NaN  \n",
       "...        ...      ...     ...         ...  \n",
       "2880  0.992959      NaN     NaN         NaN  \n",
       "2881  0.986892      NaN     NaN         NaN  \n",
       "2882  0.986929      NaN     NaN         NaN  \n",
       "2883  0.998881      NaN     NaN         NaN  \n",
       "2884  0.983911      NaN     NaN         NaN  \n",
       "\n",
       "[1296 rows x 11 columns]"
      ]
     },
     "execution_count": 30,
     "metadata": {},
     "output_type": "execute_result"
    }
   ],
   "source": [
    "df_dataset.rename(columns={'pressure': 'pressure(bar)', 'adsorption': 'adsorption(mmol/g)'}, inplace=True)\n",
    "df_dataset.drop(['category', 'adsorbate', 'p_units','ads_units', 'min_delta_T_298'], axis=1, inplace=True)\n",
    "df_dataset"
   ]
  },
  {
   "cell_type": "markdown",
   "metadata": {},
   "source": [
    "# Добавляем еще refcode "
   ]
  },
  {
   "cell_type": "code",
   "execution_count": 31,
   "metadata": {},
   "outputs": [],
   "source": [
    "search6 = pd.read_excel(\"search6.xlsx\")"
   ]
  },
  {
   "cell_type": "code",
   "execution_count": 32,
   "metadata": {},
   "outputs": [],
   "source": [
    "df_output = pd.merge(df_dataset, search6, on='adsorbent', how='left')\n",
    "df_output.to_excel(\"MOF_CO2_uptake_filtered_dataset.xlsx\")"
   ]
  },
  {
   "cell_type": "markdown",
   "metadata": {},
   "source": [
    "# Построение графиков изотерм выбранного MOF из датасета"
   ]
  },
  {
   "cell_type": "code",
   "execution_count": null,
   "metadata": {
    "tags": [
     "hide-input"
    ]
   },
   "outputs": [],
   "source": [
    "df_set_drpdwn = widgets.Dropdown(\n",
    "    options=list(df_set.drop_duplicates(subset=['adsorbent'])['adsorbent']),\n",
    "    description='MOF:',\n",
    "    disabled=False,\n",
    ")\n",
    "df_set_drpdwn"
   ]
  },
  {
   "cell_type": "code",
   "execution_count": null,
   "metadata": {
    "tags": [
     "hide-input"
    ]
   },
   "outputs": [],
   "source": [
    "subset = df_set[df_set['adsorbent']== df_set_drpdwn.value]\n",
    "subset"
   ]
  },
  {
   "cell_type": "code",
   "execution_count": null,
   "metadata": {
    "tags": [
     "hide-input"
    ]
   },
   "outputs": [],
   "source": [
    "subset_drpdwn = widgets.Dropdown(\n",
    "    options=subset.index.values.tolist(),\n",
    "    description='Choose',\n",
    "    disabled=False,\n",
    ")\n",
    "subset_drpdwn"
   ]
  },
  {
   "cell_type": "code",
   "execution_count": null,
   "metadata": {
    "tags": [
     "hide-cell"
    ]
   },
   "outputs": [],
   "source": [
    "import matplotlib.pyplot as plt\n",
    "%matplotlib inline"
   ]
  },
  {
   "cell_type": "code",
   "execution_count": null,
   "metadata": {
    "tags": [
     "hide-input"
    ]
   },
   "outputs": [],
   "source": [
    "mof_ind = subset_drpdwn.value\n",
    "plt.subplot(121)\n",
    "plt.plot(df_set.loc[mof_ind, 'pressure'], 1000*np.array(df_set.loc[mof_ind, 'adsorption']), 'ro--')\n",
    "plt.title(df_set.loc[mof_ind, 'adsorbent'])\n",
    "plt.ylabel(df_set.loc[mof_ind, 'doi'])\n",
    "plt.subplot(122)\n",
    "plt.plot(df_set.loc[mof_ind, 'pressure'], df_set.loc[mof_ind, 'adsorption'], 'bo--')\n",
    "plt.title(df_set.loc[mof_ind, 'adsorbent'])\n",
    "plt.show()"
   ]
  },
  {
   "cell_type": "code",
   "execution_count": null,
   "metadata": {},
   "outputs": [],
   "source": []
  }
 ],
 "metadata": {
  "kernelspec": {
   "display_name": "Python 3 (ipykernel)",
   "language": "python",
   "name": "python3"
  },
  "language_info": {
   "codemirror_mode": {
    "name": "ipython",
    "version": 3
   },
   "file_extension": ".py",
   "mimetype": "text/x-python",
   "name": "python",
   "nbconvert_exporter": "python",
   "pygments_lexer": "ipython3",
   "version": "3.8.10"
  }
 },
 "nbformat": 4,
 "nbformat_minor": 4
}
